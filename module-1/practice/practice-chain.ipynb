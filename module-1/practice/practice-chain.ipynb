{
 "cells": [
  {
   "cell_type": "code",
   "id": "initial_id",
   "metadata": {
    "collapsed": true,
    "ExecuteTime": {
     "end_time": "2025-04-08T13:12:13.101713Z",
     "start_time": "2025-04-08T13:12:13.097325Z"
    }
   },
   "source": [
    "from dotenv import load_dotenv\n",
    "from langchain_core.messages import AIMessage, HumanMessage\n",
    "\n",
    "load_dotenv()\n",
    "\n",
    "messages = [\n",
    "AIMessage(content=\"You said you are researching CV models.\", name=\"Model\"),\n",
    "HumanMessage(content=\"Yes i am.\", name=\"Brendon\"),\n",
    "AIMessage(content=\"Great, what are you interested to know?\", name=\"Model\"),\n",
    "HumanMessage(content=\"I'd like to know about YOLO.\", name=\"Brendon\"),\n",
    "]\n",
    "for m in messages:\n",
    "    m.pretty_print()"
   ],
   "outputs": [
    {
     "name": "stdout",
     "output_type": "stream",
     "text": [
      "==================================\u001B[1m Ai Message \u001B[0m==================================\n",
      "Name: Model\n",
      "\n",
      "You said you are researching CV models.\n",
      "================================\u001B[1m Human Message \u001B[0m=================================\n",
      "Name: Brendon\n",
      "\n",
      "Yes i am.\n",
      "==================================\u001B[1m Ai Message \u001B[0m==================================\n",
      "Name: Model\n",
      "\n",
      "Great, what are you interested to know?\n",
      "================================\u001B[1m Human Message \u001B[0m=================================\n",
      "Name: Brendon\n",
      "\n",
      "I'd like to know about YOLO.\n"
     ]
    }
   ],
   "execution_count": 18
  },
  {
   "metadata": {
    "ExecuteTime": {
     "end_time": "2025-04-08T13:12:25.095267Z",
     "start_time": "2025-04-08T13:12:20.297354Z"
    }
   },
   "cell_type": "code",
   "source": [
    "import os, getpass\n",
    "\n",
    "def _set_env(var: str):\n",
    "    os.environ[var] = getpass.getpass(f\"{var}: \")\n",
    "\n",
    "_set_env(\"OPENAI_API_KEY\")"
   ],
   "id": "5befb30bb6d685a0",
   "outputs": [],
   "execution_count": 19
  },
  {
   "metadata": {
    "ExecuteTime": {
     "end_time": "2025-04-08T13:14:27.046235Z",
     "start_time": "2025-04-08T13:14:19.305182Z"
    }
   },
   "cell_type": "code",
   "source": [
    "from langchain_openai import ChatOpenAI\n",
    "llm = ChatOpenAI(model=\"gpt-4o\")\n",
    "result = llm.invoke(messages)\n",
    "type(result)"
   ],
   "id": "d41cd2f287686844",
   "outputs": [
    {
     "data": {
      "text/plain": [
       "langchain_core.messages.ai.AIMessage"
      ]
     },
     "execution_count": 26,
     "metadata": {},
     "output_type": "execute_result"
    }
   ],
   "execution_count": 26
  },
  {
   "metadata": {
    "ExecuteTime": {
     "end_time": "2025-04-08T13:14:40.435762Z",
     "start_time": "2025-04-08T13:14:40.432405Z"
    }
   },
   "cell_type": "code",
   "source": "result",
   "id": "cb4bd2e33b35a355",
   "outputs": [
    {
     "data": {
      "text/plain": [
       "AIMessage(content='YOLO, which stands for \"You Only Look Once,\" is a popular real-time object detection system. It is known for its speed and accuracy, making it suitable for various applications where real-time processing is crucial. Here’s a brief overview of its key features and concepts:\\n\\n1. **Unified Detection**: Unlike traditional object detection methods that perform region proposals followed by classification, YOLO treats object detection as a single regression problem, straight from image pixels to bounding box coordinates and class probabilities.\\n\\n2. **Single Neural Network**: YOLO uses a single convolutional neural network (CNN) to predict multiple bounding boxes and class probabilities simultaneously. This contributes to its speed advantage.\\n\\n3. **Grid-Based Prediction**: The image is divided into an \\\\( S \\\\times S \\\\) grid. Each grid cell is responsible for predicting bounding boxes and their corresponding class probabilities. This assumes that each object’s center lies within a grid cell.\\n\\n4. **Bounding Box Prediction**: YOLO predicts a fixed number of bounding boxes per grid cell. Each bounding box consists of coordinates (x, y, width, height), confidence score, and class probabilities.\\n\\n5. **Confidence Score**: Each predicted bounding box carries a confidence score that reflects the model’s certainty that the box contains an object and how accurate it thinks the box is. It\\'s a product of two metrics: the probability of an object being present and the intersection over union (IOU) between the predicted and actual boxes.\\n\\n6. **Speed**: YOLO is designed with speed in mind and can process images in real-time, making it suitable for tasks like video processing and autonomous driving.\\n\\n7. **Applications**: YOLO can be used in various real-world applications, including surveillance systems, self-driving cars, robotics, and more, thanks to its balance between performance and speed.\\n\\n8. **Versions**: Over time, YOLO has seen several iterations, including YOLOv2, YOLOv3, YOLOv4, and more recent versions developed by different communities, like YOLOv5, YOLOv6, etc., each improving upon previous architectures with tweaks in terms of model architecture, loss functions, and techniques like anchor boxes, batch normalization, and feature pyramid networks for multi-scale detection.\\n\\nYOLO remains a go-to choice for many practitioners who require quick and reliable object detection capabilities in their projects. If you have more specific questions or need details on coding with YOLO, feel free to ask!', additional_kwargs={'refusal': None}, response_metadata={'token_usage': {'completion_tokens': 499, 'prompt_tokens': 58, 'total_tokens': 557, 'completion_tokens_details': {'accepted_prediction_tokens': 0, 'audio_tokens': 0, 'reasoning_tokens': 0, 'rejected_prediction_tokens': 0}, 'prompt_tokens_details': {'audio_tokens': 0, 'cached_tokens': 0}}, 'model_name': 'gpt-4o-2024-08-06', 'system_fingerprint': 'fp_898ac29719', 'id': 'chatcmpl-BK34NarltTbwf4JVfyLWTJxBeGVGv', 'finish_reason': 'stop', 'logprobs': None}, id='run-02f709e3-5d9e-44ac-acd1-515e3e843b10-0', usage_metadata={'input_tokens': 58, 'output_tokens': 499, 'total_tokens': 557, 'input_token_details': {'audio': 0, 'cache_read': 0}, 'output_token_details': {'audio': 0, 'reasoning': 0}})"
      ]
     },
     "execution_count": 28,
     "metadata": {},
     "output_type": "execute_result"
    }
   ],
   "execution_count": 28
  },
  {
   "metadata": {
    "ExecuteTime": {
     "end_time": "2025-04-08T13:14:58.585732Z",
     "start_time": "2025-04-08T13:14:58.583083Z"
    }
   },
   "cell_type": "code",
   "source": "result.response_metadata",
   "id": "c4e7a599b5b689ad",
   "outputs": [
    {
     "data": {
      "text/plain": [
       "{'token_usage': {'completion_tokens': 499,\n",
       "  'prompt_tokens': 58,\n",
       "  'total_tokens': 557,\n",
       "  'completion_tokens_details': {'accepted_prediction_tokens': 0,\n",
       "   'audio_tokens': 0,\n",
       "   'reasoning_tokens': 0,\n",
       "   'rejected_prediction_tokens': 0},\n",
       "  'prompt_tokens_details': {'audio_tokens': 0, 'cached_tokens': 0}},\n",
       " 'model_name': 'gpt-4o-2024-08-06',\n",
       " 'system_fingerprint': 'fp_898ac29719',\n",
       " 'id': 'chatcmpl-BK34NarltTbwf4JVfyLWTJxBeGVGv',\n",
       " 'finish_reason': 'stop',\n",
       " 'logprobs': None}"
      ]
     },
     "execution_count": 29,
     "metadata": {},
     "output_type": "execute_result"
    }
   ],
   "execution_count": 29
  },
  {
   "metadata": {
    "ExecuteTime": {
     "end_time": "2025-04-08T13:16:44.826463Z",
     "start_time": "2025-04-08T13:16:44.819491Z"
    }
   },
   "cell_type": "code",
   "source": [
    "def multiply(a: int, b: int) -> int:\n",
    "    \"\"\"\n",
    "        Multiply a and b.\n",
    "\n",
    "        Args:\n",
    "              a: first int\n",
    "              b: second int\n",
    "    \"\"\"\n",
    "    return a * b\n",
    "\n",
    "llm_with_tools = llm.bind_tools([multiply])"
   ],
   "id": "c282950ff8c3e600",
   "outputs": [],
   "execution_count": 30
  },
  {
   "metadata": {
    "ExecuteTime": {
     "end_time": "2025-04-08T13:18:01.666113Z",
     "start_time": "2025-04-08T13:18:00.661274Z"
    }
   },
   "cell_type": "code",
   "source": "tool_call = llm_with_tools.invoke([HumanMessage(\"What is 3 multiplied by 2\", name=\"Brendon\")])",
   "id": "be0bcbb2e8408eb5",
   "outputs": [],
   "execution_count": 32
  },
  {
   "metadata": {
    "ExecuteTime": {
     "end_time": "2025-04-08T13:18:30.536916Z",
     "start_time": "2025-04-08T13:18:30.534335Z"
    }
   },
   "cell_type": "code",
   "source": "tool_call.response_metadata",
   "id": "96e2db1436a6e0d8",
   "outputs": [
    {
     "data": {
      "text/plain": [
       "{'token_usage': {'completion_tokens': 18,\n",
       "  'prompt_tokens': 63,\n",
       "  'total_tokens': 81,\n",
       "  'completion_tokens_details': {'accepted_prediction_tokens': 0,\n",
       "   'audio_tokens': 0,\n",
       "   'reasoning_tokens': 0,\n",
       "   'rejected_prediction_tokens': 0},\n",
       "  'prompt_tokens_details': {'audio_tokens': 0, 'cached_tokens': 0}},\n",
       " 'model_name': 'gpt-4o-2024-08-06',\n",
       " 'system_fingerprint': 'fp_898ac29719',\n",
       " 'id': 'chatcmpl-BK37w6XBiLwPwpMPujYakHqkr3VP6',\n",
       " 'finish_reason': 'tool_calls',\n",
       " 'logprobs': None}"
      ]
     },
     "execution_count": 33,
     "metadata": {},
     "output_type": "execute_result"
    }
   ],
   "execution_count": 33
  },
  {
   "metadata": {
    "ExecuteTime": {
     "end_time": "2025-04-08T13:18:56.211499Z",
     "start_time": "2025-04-08T13:18:56.208860Z"
    }
   },
   "cell_type": "code",
   "source": "tool_call",
   "id": "7a3d3b3df25421c6",
   "outputs": [
    {
     "data": {
      "text/plain": [
       "AIMessage(content='', additional_kwargs={'tool_calls': [{'id': 'call_pOYloIj57hf0WPKnJnzZwWMB', 'function': {'arguments': '{\"a\":3,\"b\":2}', 'name': 'multiply'}, 'type': 'function'}], 'refusal': None}, response_metadata={'token_usage': {'completion_tokens': 18, 'prompt_tokens': 63, 'total_tokens': 81, 'completion_tokens_details': {'accepted_prediction_tokens': 0, 'audio_tokens': 0, 'reasoning_tokens': 0, 'rejected_prediction_tokens': 0}, 'prompt_tokens_details': {'audio_tokens': 0, 'cached_tokens': 0}}, 'model_name': 'gpt-4o-2024-08-06', 'system_fingerprint': 'fp_898ac29719', 'id': 'chatcmpl-BK37w6XBiLwPwpMPujYakHqkr3VP6', 'finish_reason': 'tool_calls', 'logprobs': None}, id='run-8a87a865-130f-4d26-90e8-60281264d85d-0', tool_calls=[{'name': 'multiply', 'args': {'a': 3, 'b': 2}, 'id': 'call_pOYloIj57hf0WPKnJnzZwWMB', 'type': 'tool_call'}], usage_metadata={'input_tokens': 63, 'output_tokens': 18, 'total_tokens': 81, 'input_token_details': {'audio': 0, 'cache_read': 0}, 'output_token_details': {'audio': 0, 'reasoning': 0}})"
      ]
     },
     "execution_count": 36,
     "metadata": {},
     "output_type": "execute_result"
    }
   ],
   "execution_count": 36
  },
  {
   "metadata": {
    "ExecuteTime": {
     "end_time": "2025-04-08T13:26:03.014280Z",
     "start_time": "2025-04-08T13:26:03.012349Z"
    }
   },
   "cell_type": "code",
   "source": [
    "# Using messages as state\n",
    "from typing import TypedDict\n",
    "from langchain_core.messages import AnyMessage\n",
    "\n",
    "class MessagesState(TypedDict):\n",
    "    messages: list[AnyMessage]\n",
    "\n"
   ],
   "id": "5a2ad788d9a0bc96",
   "outputs": [],
   "execution_count": 37
  },
  {
   "metadata": {
    "ExecuteTime": {
     "end_time": "2025-04-08T13:27:32.532799Z",
     "start_time": "2025-04-08T13:27:32.507059Z"
    }
   },
   "cell_type": "code",
   "source": [
    "from typing import Annotated\n",
    "from langgraph.graph.message import add_messages\n",
    "class MessagesState(TypedDict):\n",
    "    messages: Annotated[list[AnyMessage], add_messages]"
   ],
   "id": "4b733d024bc3703a",
   "outputs": [],
   "execution_count": 38
  },
  {
   "metadata": {
    "ExecuteTime": {
     "end_time": "2025-04-08T13:29:05.608377Z",
     "start_time": "2025-04-08T13:29:05.606066Z"
    }
   },
   "cell_type": "code",
   "source": [
    "from langgraph.graph import MessagesState\n",
    "\n",
    "class MessagesState(MessagesState):\n",
    "    \"\"\"\n",
    "    Has inherited field of type messages: Annotated[list[AnyMessage], add_messages]\n",
    "    \"\"\"\n",
    "    pass"
   ],
   "id": "3a6b8e69e1972a0d",
   "outputs": [],
   "execution_count": 39
  },
  {
   "metadata": {
    "ExecuteTime": {
     "end_time": "2025-04-08T13:29:42.860846Z",
     "start_time": "2025-04-08T13:29:42.857569Z"
    }
   },
   "cell_type": "code",
   "source": [
    "initial_messages = [AIMessage(content=\"Hello! How can I assist you?\", name=\"Model\"),\n",
    "                    HumanMessage(content=\"I'm looking for information on marine biology.\", name=\"Lance\")\n",
    "                   ]\n",
    "\n",
    "new_message = AIMessage(content=\"Sure, I can help with that. What specifically are you interested in?\", name=\"Model\")\n",
    "\n",
    "add_messages(initial_messages, new_message)"
   ],
   "id": "56fdd23529b5c4b2",
   "outputs": [
    {
     "data": {
      "text/plain": [
       "[AIMessage(content='Hello! How can I assist you?', additional_kwargs={}, response_metadata={}, name='Model', id='1b8bc224-1bc0-4f51-95f9-5e4c73c2ee33'),\n",
       " HumanMessage(content=\"I'm looking for information on marine biology.\", additional_kwargs={}, response_metadata={}, name='Lance', id='51b932df-fbcb-4083-88e0-1350b41419a0'),\n",
       " AIMessage(content='Sure, I can help with that. What specifically are you interested in?', additional_kwargs={}, response_metadata={}, name='Model', id='bc31ce35-2039-4042-8e0e-dfcc33e4d138')]"
      ]
     },
     "execution_count": 40,
     "metadata": {},
     "output_type": "execute_result"
    }
   ],
   "execution_count": 40
  },
  {
   "metadata": {
    "ExecuteTime": {
     "end_time": "2025-04-08T13:39:53.278152Z",
     "start_time": "2025-04-08T13:39:53.275695Z"
    }
   },
   "cell_type": "code",
   "source": [
    "# Graph\n",
    "\n",
    "from IPython.display import Image, display\n",
    "from langgraph.graph import StateGraph, START, END\n",
    "\n",
    "def tool_calling_llm(state: MessagesState):\n",
    "    return {\n",
    "        \"messages\": [llm_with_tools.invoke(state[\"messages\"])],\n",
    "    }"
   ],
   "id": "249747751dd6fd3a",
   "outputs": [],
   "execution_count": 49
  },
  {
   "metadata": {
    "ExecuteTime": {
     "end_time": "2025-04-08T13:39:54.303250Z",
     "start_time": "2025-04-08T13:39:54.195165Z"
    }
   },
   "cell_type": "code",
   "source": [
    "builder = StateGraph(MessagesState)\n",
    "builder.add_node(\"tool_calling_llm\", tool_calling_llm)\n",
    "builder.add_edge(START, \"tool_calling_llm\")\n",
    "builder.add_edge(\"tool_calling_llm\", END)\n",
    "graph = builder.compile()\n",
    "\n",
    "display(Image(graph.get_graph().draw_mermaid_png()))"
   ],
   "id": "e302d2a4e0f9d7c0",
   "outputs": [
    {
     "data": {
      "image/png": "[encoded data removed]",
      "text/plain": [
       "<IPython.core.display.Image object>"
      ]
     },
     "metadata": {},
     "output_type": "display_data"
    }
   ],
   "execution_count": 50
  },
  {
   "metadata": {
    "ExecuteTime": {
     "end_time": "2025-04-08T13:47:12.897900Z",
     "start_time": "2025-04-08T13:47:12.056061Z"
    }
   },
   "cell_type": "code",
   "source": [
    "messages = graph.invoke({\"messages\": HumanMessage(content=\"Multiply 2 by 3\")})\n",
    "from pprint import pprint\n",
    "pprint(messages)\n",
    "print(\"-------------------------\")\n",
    "for m in messages['messages']:\n",
    "    m.pretty_print()"
   ],
   "id": "327c27d0b7d63e37",
   "outputs": [
    {
     "name": "stdout",
     "output_type": "stream",
     "text": [
      "{'messages': [HumanMessage(content='Multiply 2 by 3', additional_kwargs={}, response_metadata={}, id='5dbaba23-220c-430d-aeee-89cfac59e48d'),\n",
      "              AIMessage(content='', additional_kwargs={'tool_calls': [{'id': 'call_ZjG6pnMXwvqEtSSEkTHBmhFL', 'function': {'arguments': '{\"a\":2,\"b\":3}', 'name': 'multiply'}, 'type': 'function'}], 'refusal': None}, response_metadata={'token_usage': {'completion_tokens': 18, 'prompt_tokens': 58, 'total_tokens': 76, 'completion_tokens_details': {'accepted_prediction_tokens': 0, 'audio_tokens': 0, 'reasoning_tokens': 0, 'rejected_prediction_tokens': 0}, 'prompt_tokens_details': {'audio_tokens': 0, 'cached_tokens': 0}}, 'model_name': 'gpt-4o-2024-08-06', 'system_fingerprint': 'fp_898ac29719', 'id': 'chatcmpl-BK3aC3HHWPuR2BnT3umalPx8A8x8V', 'finish_reason': 'tool_calls', 'logprobs': None}, id='run-81418d90-dedc-4224-bfb7-fbe00ce7dbab-0', tool_calls=[{'name': 'multiply', 'args': {'a': 2, 'b': 3}, 'id': 'call_ZjG6pnMXwvqEtSSEkTHBmhFL', 'type': 'tool_call'}], usage_metadata={'input_tokens': 58, 'output_tokens': 18, 'total_tokens': 76, 'input_token_details': {'audio': 0, 'cache_read': 0}, 'output_token_details': {'audio': 0, 'reasoning': 0}})]}\n",
      "-------------------------\n",
      "================================\u001B[1m Human Message \u001B[0m=================================\n",
      "\n",
      "Multiply 2 by 3\n",
      "==================================\u001B[1m Ai Message \u001B[0m==================================\n",
      "Tool Calls:\n",
      "  multiply (call_ZjG6pnMXwvqEtSSEkTHBmhFL)\n",
      " Call ID: call_ZjG6pnMXwvqEtSSEkTHBmhFL\n",
      "  Args:\n",
      "    a: 2\n",
      "    b: 3\n"
     ]
    }
   ],
   "execution_count": 56
  },
  {
   "metadata": {},
   "cell_type": "code",
   "outputs": [],
   "execution_count": null,
   "source": "",
   "id": "7293a5025d8a5d5c"
  }
 ],
 "metadata": {
  "kernelspec": {
   "display_name": "Python 3",
   "language": "python",
   "name": "python3"
  },
  "language_info": {
   "codemirror_mode": {
    "name": "ipython",
    "version": 2
   },
   "file_extension": ".py",
   "mimetype": "text/x-python",
   "name": "python",
   "nbconvert_exporter": "python",
   "pygments_lexer": "ipython2",
   "version": "2.7.6"
  }
 },
 "nbformat": 4,
 "nbformat_minor": 5
}
